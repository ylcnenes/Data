{
 "cells": [
  {
   "cell_type": "code",
   "execution_count": 1,
   "metadata": {},
   "outputs": [],
   "source": [
    "import pandas as pd \n"
   ]
  },
  {
   "cell_type": "code",
   "execution_count": 2,
   "metadata": {},
   "outputs": [],
   "source": [
    "#Read csv file\n",
    "df=pd.read_csv('2015_Ie_Tr.csv')"
   ]
  },
  {
   "cell_type": "code",
   "execution_count": 3,
   "metadata": {},
   "outputs": [
    {
     "data": {
      "text/html": [
       "<div>\n",
       "<style scoped>\n",
       "    .dataframe tbody tr th:only-of-type {\n",
       "        vertical-align: middle;\n",
       "    }\n",
       "\n",
       "    .dataframe tbody tr th {\n",
       "        vertical-align: top;\n",
       "    }\n",
       "\n",
       "    .dataframe thead th {\n",
       "        text-align: right;\n",
       "    }\n",
       "</style>\n",
       "<table border=\"1\" class=\"dataframe\">\n",
       "  <thead>\n",
       "    <tr style=\"text-align: right;\">\n",
       "      <th></th>\n",
       "      <th>Country</th>\n",
       "      <th>January</th>\n",
       "      <th>February</th>\n",
       "      <th>March</th>\n",
       "      <th>April</th>\n",
       "      <th>May</th>\n",
       "      <th>June</th>\n",
       "      <th>July</th>\n",
       "      <th>August</th>\n",
       "      <th>September</th>\n",
       "      <th>October</th>\n",
       "      <th>November</th>\n",
       "      <th>December</th>\n",
       "      <th>Yearly average</th>\n",
       "    </tr>\n",
       "  </thead>\n",
       "  <tbody>\n",
       "    <tr>\n",
       "      <th>0</th>\n",
       "      <td>Ireland</td>\n",
       "      <td>206.20</td>\n",
       "      <td>206.00</td>\n",
       "      <td>206.50</td>\n",
       "      <td>206.80</td>\n",
       "      <td>207.20</td>\n",
       "      <td>207.60</td>\n",
       "      <td>207.40</td>\n",
       "      <td>207.40</td>\n",
       "      <td>207.30</td>\n",
       "      <td>207.20</td>\n",
       "      <td>207.60</td>\n",
       "      <td>207.4</td>\n",
       "      <td>207.10</td>\n",
       "    </tr>\n",
       "    <tr>\n",
       "      <th>1</th>\n",
       "      <td>Turkey</td>\n",
       "      <td>97.13</td>\n",
       "      <td>97.65</td>\n",
       "      <td>98.27</td>\n",
       "      <td>99.14</td>\n",
       "      <td>100.17</td>\n",
       "      <td>100.03</td>\n",
       "      <td>100.83</td>\n",
       "      <td>101.35</td>\n",
       "      <td>102.25</td>\n",
       "      <td>101.56</td>\n",
       "      <td>101.01</td>\n",
       "      <td>100.6</td>\n",
       "      <td>100.53</td>\n",
       "    </tr>\n",
       "  </tbody>\n",
       "</table>\n",
       "</div>"
      ],
      "text/plain": [
       "   Country  January  February   March  April     May    June    July   August  \\\n",
       "0  Ireland   206.20    206.00  206.50  206.80  207.20  207.60  207.40  207.40   \n",
       "1   Turkey    97.13     97.65   98.27   99.14  100.17  100.03  100.83  101.35   \n",
       "\n",
       "   September   October  November  December  Yearly average  \n",
       "0      207.30   207.20    207.60     207.4          207.10  \n",
       "1      102.25   101.56    101.01     100.6          100.53  "
      ]
     },
     "execution_count": 3,
     "metadata": {},
     "output_type": "execute_result"
    }
   ],
   "source": [
    "#Print first 5 rows\n",
    "df.head()"
   ]
  },
  {
   "cell_type": "code",
   "execution_count": null,
   "metadata": {},
   "outputs": [],
   "source": []
  }
 ],
 "metadata": {
  "kernelspec": {
   "display_name": "base",
   "language": "python",
   "name": "python3"
  },
  "language_info": {
   "codemirror_mode": {
    "name": "ipython",
    "version": 3
   },
   "file_extension": ".py",
   "mimetype": "text/x-python",
   "name": "python",
   "nbconvert_exporter": "python",
   "pygments_lexer": "ipython3",
   "version": "3.9.12"
  },
  "orig_nbformat": 4
 },
 "nbformat": 4,
 "nbformat_minor": 2
}
