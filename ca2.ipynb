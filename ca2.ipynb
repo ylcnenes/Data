{
 "cells": [
  {
   "cell_type": "code",
   "execution_count": 1,
   "metadata": {},
   "outputs": [],
   "source": [
    "import pandas as pd \n"
   ]
  },
  {
   "cell_type": "code",
   "execution_count": 2,
   "metadata": {},
   "outputs": [],
   "source": [
    "#Read csv file\n",
    "df=pd.read_csv('2015_Ie_Tr.csv')"
   ]
  },
  {
   "cell_type": "code",
   "execution_count": 3,
   "metadata": {},
   "outputs": [
    {
     "data": {
      "text/html": [
       "<div>\n",
       "<style scoped>\n",
       "    .dataframe tbody tr th:only-of-type {\n",
       "        vertical-align: middle;\n",
       "    }\n",
       "\n",
       "    .dataframe tbody tr th {\n",
       "        vertical-align: top;\n",
       "    }\n",
       "\n",
       "    .dataframe thead th {\n",
       "        text-align: right;\n",
       "    }\n",
       "</style>\n",
       "<table border=\"1\" class=\"dataframe\">\n",
       "  <thead>\n",
       "    <tr style=\"text-align: right;\">\n",
       "      <th></th>\n",
       "      <th>Country</th>\n",
       "      <th>January</th>\n",
       "      <th>February</th>\n",
       "      <th>March</th>\n",
       "      <th>April</th>\n",
       "      <th>May</th>\n",
       "      <th>June</th>\n",
       "      <th>July</th>\n",
       "      <th>August</th>\n",
       "      <th>September</th>\n",
       "      <th>October</th>\n",
       "      <th>November</th>\n",
       "      <th>December</th>\n",
       "      <th>Yearly average</th>\n",
       "    </tr>\n",
       "  </thead>\n",
       "  <tbody>\n",
       "    <tr>\n",
       "      <th>0</th>\n",
       "      <td>Ireland</td>\n",
       "      <td>206.20</td>\n",
       "      <td>206.00</td>\n",
       "      <td>206.50</td>\n",
       "      <td>206.80</td>\n",
       "      <td>207.20</td>\n",
       "      <td>207.60</td>\n",
       "      <td>207.40</td>\n",
       "      <td>207.40</td>\n",
       "      <td>207.30</td>\n",
       "      <td>207.20</td>\n",
       "      <td>207.60</td>\n",
       "      <td>207.4</td>\n",
       "      <td>207.10</td>\n",
       "    </tr>\n",
       "    <tr>\n",
       "      <th>1</th>\n",
       "      <td>Turkey</td>\n",
       "      <td>97.13</td>\n",
       "      <td>97.65</td>\n",
       "      <td>98.27</td>\n",
       "      <td>99.14</td>\n",
       "      <td>100.17</td>\n",
       "      <td>100.03</td>\n",
       "      <td>100.83</td>\n",
       "      <td>101.35</td>\n",
       "      <td>102.25</td>\n",
       "      <td>101.56</td>\n",
       "      <td>101.01</td>\n",
       "      <td>100.6</td>\n",
       "      <td>100.53</td>\n",
       "    </tr>\n",
       "  </tbody>\n",
       "</table>\n",
       "</div>"
      ],
      "text/plain": [
       "   Country  January  February   March  April     May    June    July   August  \\\n",
       "0  Ireland   206.20    206.00  206.50  206.80  207.20  207.60  207.40  207.40   \n",
       "1   Turkey    97.13     97.65   98.27   99.14  100.17  100.03  100.83  101.35   \n",
       "\n",
       "   September   October  November  December  Yearly average  \n",
       "0      207.30   207.20    207.60     207.4          207.10  \n",
       "1      102.25   101.56    101.01     100.6          100.53  "
      ]
     },
     "execution_count": 3,
     "metadata": {},
     "output_type": "execute_result"
    }
   ],
   "source": [
    "#Print first 5 rows\n",
    "df.head()"
   ]
  },
  {
   "cell_type": "code",
   "execution_count": 4,
   "metadata": {},
   "outputs": [
    {
     "name": "stdout",
     "output_type": "stream",
     "text": [
      "<class 'pandas.core.frame.DataFrame'>\n",
      "RangeIndex: 2 entries, 0 to 1\n",
      "Data columns (total 14 columns):\n",
      " #   Column          Non-Null Count  Dtype  \n",
      "---  ------          --------------  -----  \n",
      " 0   Country         2 non-null      object \n",
      " 1   January         2 non-null      float64\n",
      " 2   February        2 non-null      float64\n",
      " 3   March           2 non-null      float64\n",
      " 4   April           2 non-null      float64\n",
      " 5   May             2 non-null      float64\n",
      " 6   June            2 non-null      float64\n",
      " 7   July            2 non-null      float64\n",
      " 8   August          2 non-null      float64\n",
      " 9   September       2 non-null      float64\n",
      " 10  October         2 non-null      float64\n",
      " 11  November        2 non-null      float64\n",
      " 12  December        2 non-null      float64\n",
      " 13  Yearly average  2 non-null      float64\n",
      "dtypes: float64(13), object(1)\n",
      "memory usage: 352.0+ bytes\n",
      "None\n"
     ]
    }
   ],
   "source": [
    "# Check the information of the DataFrame\n",
    "print(df.info())"
   ]
  },
  {
   "cell_type": "code",
   "execution_count": 5,
   "metadata": {},
   "outputs": [
    {
     "name": "stdout",
     "output_type": "stream",
     "text": [
      "Country            object\n",
      "January           float64\n",
      "February          float64\n",
      "March             float64\n",
      "April             float64\n",
      "May               float64\n",
      "June              float64\n",
      "July              float64\n",
      "August            float64\n",
      "September         float64\n",
      "October           float64\n",
      "November          float64\n",
      "December          float64\n",
      "Yearly average    float64\n",
      "dtype: object\n"
     ]
    }
   ],
   "source": [
    "# Check the data types of the DataFrame\n",
    "print(df.dtypes)"
   ]
  },
  {
   "cell_type": "code",
   "execution_count": 6,
   "metadata": {},
   "outputs": [
    {
     "name": "stdout",
     "output_type": "stream",
     "text": [
      "          January   February       March      April         May        June   \\\n",
      "count    2.000000    2.00000    2.000000    2.000000    2.000000    2.000000   \n",
      "mean   151.665000  151.82500  152.385000  152.970000  153.685000  153.815000   \n",
      "std     77.124137   76.61502   76.530167   76.127116   75.681639   76.063476   \n",
      "min     97.130000   97.65000   98.270000   99.140000  100.170000  100.030000   \n",
      "25%    124.397500  124.73750  125.327500  126.055000  126.927500  126.922500   \n",
      "50%    151.665000  151.82500  152.385000  152.970000  153.685000  153.815000   \n",
      "75%    178.932500  178.91250  179.442500  179.885000  180.442500  180.707500   \n",
      "max    206.200000  206.00000  206.500000  206.800000  207.200000  207.600000   \n",
      "\n",
      "           July       August  September     October    November    December  \\\n",
      "count    2.00000    2.000000    2.000000    2.00000    2.000000    2.000000   \n",
      "mean   154.11500  154.375000  154.775000  154.38000  154.305000  154.000000   \n",
      "std     75.35637   74.988674   74.281567   74.69876   75.370512   75.519004   \n",
      "min    100.83000  101.350000  102.250000  101.56000  101.010000  100.600000   \n",
      "25%    127.47250  127.862500  128.512500  127.97000  127.657500  127.300000   \n",
      "50%    154.11500  154.375000  154.775000  154.38000  154.305000  154.000000   \n",
      "75%    180.75750  180.887500  181.037500  180.79000  180.952500  180.700000   \n",
      "max    207.40000  207.400000  207.300000  207.20000  207.600000  207.400000   \n",
      "\n",
      "       Yearly average  \n",
      "count         2.00000  \n",
      "mean        153.81500  \n",
      "std          75.35637  \n",
      "min         100.53000  \n",
      "25%         127.17250  \n",
      "50%         153.81500  \n",
      "75%         180.45750  \n",
      "max         207.10000  \n"
     ]
    }
   ],
   "source": [
    "# Get the statistical summary of the DataFrame\n",
    "print(df.describe())"
   ]
  },
  {
   "cell_type": "code",
   "execution_count": null,
   "metadata": {},
   "outputs": [],
   "source": []
  }
 ],
 "metadata": {
  "kernelspec": {
   "display_name": "base",
   "language": "python",
   "name": "python3"
  },
  "language_info": {
   "codemirror_mode": {
    "name": "ipython",
    "version": 3
   },
   "file_extension": ".py",
   "mimetype": "text/x-python",
   "name": "python",
   "nbconvert_exporter": "python",
   "pygments_lexer": "ipython3",
   "version": "3.9.12"
  },
  "orig_nbformat": 4
 },
 "nbformat": 4,
 "nbformat_minor": 2
}
